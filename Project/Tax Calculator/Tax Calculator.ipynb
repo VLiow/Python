{
 "cells": [
  {
   "cell_type": "code",
   "execution_count": 6,
   "metadata": {},
   "outputs": [
    {
     "name": "stdout",
     "output_type": "stream",
     "text": [
      "Enter total cost: 200\n",
      "Enter the Tax Rate [0 .. 100]: 9.7\n",
      "\n",
      "Cost : $  200.00\n",
      "Tax  : $   19.40\n",
      "Total: $  219.40\n"
     ]
    }
   ],
   "source": [
    "import sys\n",
    "\n",
    "try:\n",
    "    cost = float(input(\"Enter total cost: \"))   #Enter cost\n",
    "    rate = float(input(\"Enter the Tax Rate [0 .. 100]: \"))    #enter the state tax\n",
    "except Error:\n",
    "    print(\"\\nNot a valid number - exiting.\")    #Not a cost\n",
    "    sys.exit(0)\n",
    "    \n",
    "if cost < 0:\n",
    "    print(\"Invalid cost - has to be >= 0 %.2f\\n\" %rate)    #Invalid cost\n",
    "    \n",
    "    \n",
    "elif rate < 0 or rate > 100:\n",
    "    print(\"Invalid tax rate %.2f\\n\" %rate)\n",
    "    \n",
    "    \n",
    "else:\n",
    "    tax = cost * (rate/100.0)\n",
    "\n",
    "    print(\"\\nCost : $ %7.2f\" %cost)\n",
    "    print(\"Tax  : $ %7.2f\" %tax)\n",
    "    print(\"Total: $ %7.2f\" %(cost+tax))"
   ]
  },
  {
   "cell_type": "code",
   "execution_count": null,
   "metadata": {},
   "outputs": [],
   "source": []
  },
  {
   "cell_type": "code",
   "execution_count": null,
   "metadata": {},
   "outputs": [],
   "source": []
  }
 ],
 "metadata": {
  "kernelspec": {
   "display_name": "Python 3",
   "language": "python",
   "name": "python3"
  },
  "language_info": {
   "codemirror_mode": {
    "name": "ipython",
    "version": 3
   },
   "file_extension": ".py",
   "mimetype": "text/x-python",
   "name": "python",
   "nbconvert_exporter": "python",
   "pygments_lexer": "ipython3",
   "version": "3.7.0"
  }
 },
 "nbformat": 4,
 "nbformat_minor": 2
}
